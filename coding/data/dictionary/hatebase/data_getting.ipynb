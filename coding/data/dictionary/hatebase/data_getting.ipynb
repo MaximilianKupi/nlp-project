{
 "nbformat": 4,
 "nbformat_minor": 2,
 "metadata": {
  "language_info": {
   "name": "python",
   "codemirror_mode": {
    "name": "ipython",
    "version": 3
   },
   "version": "3.7.6-final"
  },
  "orig_nbformat": 2,
  "file_extension": ".py",
  "mimetype": "text/x-python",
  "name": "python",
  "npconvert_exporter": "python",
  "pygments_lexer": "ipython3",
  "version": 3,
  "kernelspec": {
   "name": "python37664bitscraperv1condac67eee00092f451cb06b7dadff488d14",
   "display_name": "Python 3.7.6 64-bit ('Scraper_v1': conda)"
  }
 },
 "cells": [
  {
   "cell_type": "code",
   "execution_count": 29,
   "metadata": {},
   "outputs": [],
   "source": [
    "import json \n",
    "import requests\n",
    "import pandas as pd\n",
    "from hatebase import HatebaseAPI\n",
    "\n",
    "key = open(r'/Users/mxm/Google Drive/Masterstudium/Inhalte/4th Semester/NLP/API KEYS/Hatebasekey.txt' , \"r\").read() # insert filepath where the API key is stored\n",
    "filepath = \"/Users/mxm/Google Drive/Masterstudium/Inhalte/4th Semester/NLP/nlp-project/coding/data/dictionary/hatebase/full_dictionary.csv\" # insert filepath where the final csv file should be stored \n",
    "\n",
    "hatebase = HatebaseAPI({\"key\": key})\n",
    "filters = {\"language\": \"eng\"}\n",
    "format = \"json\"\n",
    "# initialize list for all vocabulary entry dictionaries\n",
    "eng_vocab = []\n",
    "response = hatebase.getVocabulary(filters=filters, format=format)\n",
    "pages = response[\"number_of_pages\"]\n",
    "# fill the vocabulary list with all entries of all pages\n",
    "# this might take some time...\n",
    "for page in range(1, pages+1):\n",
    "    filters[\"page\"] = str(page) \n",
    "    response = hatebase.getVocabulary(filters=filters, format=format)\n",
    "    eng_vocab.append(response[\"result\"])\n",
    "\n",
    "# create empty pandas df for all vocabulary entries\n",
    "df_eng_vocab = pd.DataFrame()\n",
    "# fill df\n",
    "for elem in eng_vocab:\n",
    "    df_eng_vocab = df_eng_vocab.append(elem)\n",
    "# reset the df index\n",
    "df_eng_vocab.reset_index(drop=True, inplace=True) \n",
    "# saving the file to csv\n",
    "df_eng_vocab.to_csv(filepath)"
   ]
  }
 ]
}